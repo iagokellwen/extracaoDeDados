{
 "cells": [
  {
   "cell_type": "code",
   "execution_count": 1,
   "metadata": {},
   "outputs": [],
   "source": [
    "# Processamento de Linguagem Natural com Python e NLTK\n",
    "# Autor: Ricardo Roberto de Lima - Aplicando Stemmer com Busca de Palavras - Parte VI.\n",
    "# Parte 6 - Implementação Completa com Seleção das Features, Classificação e Análise de Sentimentos."
   ]
  },
  {
   "cell_type": "code",
   "execution_count": 2,
   "metadata": {},
   "outputs": [],
   "source": [
    "# coding: utf-8\n",
    "import nltk\n",
    "import numpy as np"
   ]
  },
  {
   "cell_type": "code",
   "execution_count": 2,
   "metadata": {
    "collapsed": true
   },
   "outputs": [],
   "source": [
    "# Iniciando o Processamento de Linguagem Natural com Python e NLTK."
   ]
  },
  {
   "cell_type": "code",
   "execution_count": 3,
   "metadata": {},
   "outputs": [],
   "source": [
    "# Bases de Treinamento e de Testes \n",
    "basetreinamento = [\n",
    "\n",
    "#Frases de amor\n",
    "\n",
    "('O amor é a força mais poderosa do universo.'),\n",
    "('Você é o meu sol em dias nublados.'),\n",
    "('Amar é encontrar a felicidade no sorriso do outro.'),\n",
    "('Nossos corações batem juntos como uma só melodia.'),\n",
    "('Meu amor por você é eterno e infinito.'),\n",
    "('Na sua presença, o mundo se torna um lugar mais brilhante.'),\n",
    "('Você é a razão do meu sorriso todas as manhãs.'),\n",
    "('Com você, cada dia é uma aventura maravilhosa.'),\n",
    "('O amor é a resposta para todas as perguntas da vida.'),\n",
    "('Juntos, enfrentamos todas as tempestades da vida.'),\n",
    "('Nossos destinos foram entrelaçados pelo amor.'),\n",
    "('Você é a pessoa dos meus sonhos, o amor da minha vida.'),\n",
    "('Nosso amor é como uma história sem fim, cheia de momentos especiais.'),\n",
    "('Com você, encontrei o meu lar.'),\n",
    "('O amor é um fogo que aquece a alma.'),\n",
    "('Toda vez que vejo o seu rosto, meu coração salta de alegria.'),\n",
    "('Você é o meu porto seguro, meu refúgio.'),\n",
    "('Meu amor por você cresce a cada batida do meu coração.'),\n",
    "('Com você, o mundo se torna um lugar mais doce.'),\n",
    "('Amar é a magia que ilumina a escuridão.'),\n",
    "('Nossos corações estão unidos por um amor inquebrantável.'),\n",
    "('Em seus braços, encontro paz e conforto.'),\n",
    "('Você é a razão pela qual eu acredito no amor verdadeiro.'),\n",
    "('Nosso amor é uma jornada incrível que nunca acaba.'),\n",
    "('Amar é cuidar e proteger um ao outro.'),\n",
    "('Com você, cada momento se torna especial.'),\n",
    "('Meu amor por você é maior do que as estrelas no céu.'),\n",
    "('Você é a inspiração por trás dos meus sonhos.'),\n",
    "('Nós somos a definição de amor verdadeiro.'),\n",
    "('Em sua presença, encontro alegria e serenidade.'),\n",
    "('O amor é a resposta para todas as perguntas do coração.'),\n",
    "('Nossas almas estão conectadas de forma profunda.'),\n",
    "('Você é a minha âncora, meu suporte.'),\n",
    "('Amar é dar sem esperar nada em troca.'),\n",
    "('Com você, todos os desafios se tornam possíveis.'),\n",
    "('Meu amor por você é como um oceano sem fim.'),\n",
    "('Você é o raio de sol nos meus dias nublados.'),\n",
    "('Juntos, somos invencíveis.'),\n",
    "('Em seu sorriso, encontro a minha felicidade.'),\n",
    "('Você é o sonho que eu nunca quero acordar.'),\n",
    "('Com você, a vida é mais bonita e cheia de cor.'),\n",
    "('Amar é o maior presente que podemos dar e receber.'),\n",
    "('Você é o meu confidente e melhor amigo.'),\n",
    "('Meu amor por você é eterno como o tempo.'),\n",
    "('Você é a razão pela qual acredito em milagres.'),\n",
    "('Nossa história de amor é única e eterna.'),\n",
    "('Com você, encontro força para enfrentar tudo.'),\n",
    "('Meu amor por você é mais profundo do que o oceano.'),\n",
    "('Você é a inspiração por trás dos meus melhores momentos.'),\n",
    "('Juntos, enfrentamos todas as adversidades com coragem.'),\n",
    "('Amar é o que dá significado à vida.'),\n",
    "('Você é o meu abrigo em meio à tempestade.'),\n",
    "('Meu amor por você cresce a cada dia.'),\n",
    "('Nossa ligação é mais forte do que qualquer obstáculo.'),\n",
    "('Você é a razão pela qual acredito no destino.'),\n",
    "('Com você, cada momento é um tesouro.'),\n",
    "('Meu amor por você é maior do que as palavras podem expressar.'),\n",
    "('Você é o meu raio de luz nos dias mais sombrios.'),\n",
    "('Juntos, somos uma história escrita nas estrelas.'),\n",
    "('O amor é a força que nos une, independentemente da distância.'),\n",
    "('Você é a minha paz e tranquilidade.'),\n",
    "('Amar é compartilhar a vida e seus desafios.'),\n",
    "('Você é o meu porto seguro, minha salvação.'),\n",
    "('Meu amor por você é como uma chama que nunca se apaga.'),\n",
    "('Você é o meu anjo, minha bênção.'),\n",
    "('Nossa conexão é mais profunda do que qualquer oceano.'),\n",
    "('Com você, cada dia é uma nova aventura.'),\n",
    "('Meu amor por você é mais forte do que qualquer obstáculo.'),\n",
    "('Você é a minha razão para acreditar na bondade.'),\n",
    "('Amar é construir um futuro juntos.'),\n",
    "('Você é o meu farol na escuridão.'),\n",
    "('Meu amor por você é mais doce do que o mel.'),\n",
    "('Você é a razão pela qual meu coração bate mais rápido.'),\n",
    "('Com você, o mundo é um lugar mais belo.'),\n",
    "('O amor é a música da nossa alma.'),\n",
    "('Você é a inspiração por trás dos meus melhores poemas.'),\n",
    "('Meu amor por você é eterno e infinito.'),\n",
    "('Com você, cada dia é uma bênção.'),\n",
    "('Você é a minha razão para acreditar na magia.'),\n",
    "('Amar é encontrar o paraíso nos braços do outro.'),\n",
    "('Você é o meu sonho tornado realidade.'),\n",
    "('Meu amor por você é mais profundo do que as montanhas.'),\n",
    "('Você é a razão do meu sorriso sem motivo.'),\n",
    "('Com você, a vida é uma aventura maravilhosa.'),\n",
    "('O amor é a resposta para todas as perguntas do coração.'),\n",
    "('Você é a minha âncora em meio à tempestade.'),\n",
    "('Meu amor por você cresce a cada dia que passa.'),\n",
    "('Você é o meu raio de sol nos dias chuvosos.'),\n",
    "('Com você, tudo é possível.'),\n",
    "('Meu amor por você é incondicional e eterno.'),\n",
    "('Você é a razão pela qual acredito no destino.'),\n",
    "('Você é a minha paz e minha felicidade.'),\n",
    "('Amar é dar sem esperar nada em troca.'),\n",
    "('Você é a minha força e o meu alicerce.'),\n",
    "('Meu amor por você é maior do que as estrelas no céu.'),\n",
    "('Você é o meu porto seguro em meio à tempestade.'),\n",
    "('Com você, encontro alegria e serenidade.'),\n",
    "('Meu amor por você é como um fogo que nunca se apaga.'),\n",
    "('Você é o meu maior tesouro.'),\n",
    "('Você é a razão da minha existência, o amor da minha vida.'),\n",
    "\n",
    "\n",
    "#Frases de alegria\n",
    "    \n",
    "('A alegria é o combustível da vida.'),\n",
    "('A alegria está nas pequenas coisas da vida.'),\n",
    "('Sorria, a felicidade está no seu coração.'),\n",
    "('A alegria contagia e ilumina o mundo.'),\n",
    "('A alegria é a melhor maquiagem que alguém pode usar.'),\n",
    "('A alegria é a música da alma.'),\n",
    "('Celebre a vida com alegria todos os dias.'),\n",
    "('A alegria está em viver o presente.'),\n",
    "('A alegria é um raio de sol no coração.'),\n",
    "('A alegria é o tempero da vida.'),\n",
    "('Sorria, a vida é bela!'),\n",
    "('A alegria é a chave para o bem-estar.'),\n",
    "('A alegria é a dança da alma.'),\n",
    "('Encontre a alegria nas coisas simples.'),\n",
    "('A alegria é a força que nos impulsiona.'),\n",
    "('Sorria, é a melhor maneira de enfrentar os desafios.'),\n",
    "('A alegria é um dom que todos possuem.'),\n",
    "('A alegria é a recompensa da gratidão.'),\n",
    "('A alegria é a luz que guia nosso caminho.'),\n",
    "('A alegria é a essência da vida.'),\n",
    "('A felicidade é contagiosa, compartilhe-a com o mundo.'),\n",
    "('A alegria é o resultado de uma atitude positiva.'),\n",
    "('A alegria está no amor e na amizade.'),\n",
    "('A alegria é a cura para muitos males.'),\n",
    "('Sorria, é o melhor remédio para o coração.'),\n",
    "('A alegria é a energia que nos faz avançar.'),\n",
    "('A alegria está em ser autêntico e verdadeiro.'),\n",
    "('A alegria está em viver com paixão.'),\n",
    "('A alegria é um abraço da alma.'),\n",
    "('A alegria está em ver o lado positivo da vida.'),\n",
    "('Sorria, a vida é uma dádiva preciosa.'),\n",
    "('A alegria está em celebrar cada conquista.'),\n",
    "('A alegria é a faísca que acende a felicidade.'),\n",
    "('A alegria está em compartilhar momentos especiais.'),\n",
    "('A alegria é a música que toca no coração.'),\n",
    "('Sorria, a alegria é o caminho para a felicidade.'),\n",
    "('A alegria está em abraçar a vida com gratidão.'),\n",
    "('A alegria está em ver o mundo com olhos de criança.'),\n",
    "('A alegria é o tesouro escondido da vida.'),\n",
    "('Sorria, a alegria é o seu superpoder.'),\n",
    "('A alegria está em dançar ao ritmo da vida.'),\n",
    "('A alegria está em aceitar a jornada da vida.'),\n",
    "('A alegria está em compartilhar sorrisos com os outros.'),\n",
    "('A alegria é a chave para uma vida plena.'),\n",
    "('A alegria está em ser grato por cada dia.'),\n",
    "('Sorria, a vida é uma festa!'),\n",
    "('A alegria está em espalhar amor e bondade.'),\n",
    "('A alegria está em viver o presente com entusiasmo.'),\n",
    "('A alegria é o segredo da longevidade.'),\n",
    "('A alegria está em celebrar as pequenas vitórias.'),\n",
    "('A alegria está em abraçar a diversidade da vida.'),\n",
    "('Sorria, a alegria é o melhor presente que você pode dar.'),\n",
    "('A alegria está em aproveitar cada momento como se fosse o último.'),\n",
    "('A alegria está em cultivar relacionamentos genuínos.'),\n",
    "('A alegria está em apreciar a beleza da natureza.'),\n",
    "('A alegria está em ser gentil e generoso.'),\n",
    "('A alegria está em viver uma vida autêntica.'),\n",
    "('Sorria, a alegria é um raio de sol em dias chuvosos.'),\n",
    "('A alegria está em dar sentido à vida.'),\n",
    "('A alegria está em espalhar positividade e esperança.'),\n",
    "('A alegria está em acreditar no poder dos sonhos.'),\n",
    "('Sorria, a alegria é a luz que ilumina o caminho.'),\n",
    "('A alegria está em encontrar a paz interior.'),\n",
    "('A alegria está em superar os obstáculos com determinação.'),\n",
    "('A alegria está em aprender com as experiências da vida.'),\n",
    "('A alegria está em valorizar as pequenas coisas.'),\n",
    "('Sorria, a alegria é a força que nos renova.'),\n",
    "('A alegria está em celebrar a diversidade da vida.'),\n",
    "('A alegria está em construir memórias felizes.'),\n",
    "('A alegria está em amar e ser amado.'),\n",
    "('A alegria está em encontrar beleza em cada dia.'),\n",
    "('Sorria, a alegria é a melhor maneira de espalhar amor.'),\n",
    "('A alegria está em agradecer por todas as bênçãos.'),\n",
    "('A alegria está em viver uma vida autêntica e verdadeira.'),\n",
    "('A alegria está em aproveitar cada momento como se fosse o último.'),\n",
    "('A alegria está em celebrar a vida com gratidão.'),\n",
    "('Sorria, a alegria está em viver o presente intensamente.'),\n",
    "('A alegria está em compartilhar risadas e abraços.'),\n",
    "('A alegria está em ser positivo e otimista.'),\n",
    "('A alegria está em acreditar em um futuro brilhante.'),\n",
    "('A alegria está em viver com propósito e significado.'),\n",
    "('Sorria, a alegria é a melhor resposta para a adversidade.'),\n",
    "('A alegria está em encontrar a paz interior e serenidade.'),\n",
    "('A alegria está em ser gentil com os outros.'),\n",
    "('A alegria está em celebrar cada novo dia como um presente.'),\n",
    "('Sorria, a alegria é a recompensa da gratidão.'),\n",
    "('A alegria está em ver o lado positivo da vida.'),\n",
    "('A alegria está em abraçar a jornada da vida com coragem.'),\n",
    "('A alegria está em compartilhar momentos especiais com entes queridos.'),\n",
    "('Sorria, a alegria é o segredo para uma vida plena e feliz.'),\n",
    "('A alegria está em viver com paixão e entusiasmo.'),\n",
    "('A alegria está em abraçar a diversidade e a unicidade da vida.'),\n",
    "('A alegria está em aproveitar cada dia como uma dádiva preciosa.'),\n",
    "('A alegria está em cultivar relacionamentos genuínos e significativos.'),\n",
    "('Sorria, a alegria é o melhor presente que você pode dar a si mesmo.'),\n",
    "('A alegria está em espalhar amor, bondade e positividade.'),\n",
    "('A alegria está em abraçar a vida com gratidão e alegria.'),\n",
    "('A alegria está em ver a beleza e a magia que a vida tem a oferecer.'),\n",
    "('Sorria, a alegria é a música que toca em nossos corações.'),\n",
    "('A alegria está em viver o presente com um coração grato.'),\n",
    "\n",
    "#Frases de felicidade\n",
    "\n",
    "('A felicidade está nas coisas simples da vida.'),\n",
    "('A felicidade é um estado de espírito.'),\n",
    "('Sorria, a felicidade é contagiante.'),\n",
    "('A verdadeira riqueza é a felicidade.'),\n",
    "('A felicidade está em viver o presente.'),\n",
    "('A felicidade está em ser grato por cada dia.'),\n",
    "('A felicidade está em compartilhar momentos especiais.'),\n",
    "('A felicidade é o resultado de uma mente em paz.'),\n",
    "('A felicidade está em dar e receber amor.'),\n",
    "('A felicidade está em encontrar alegria nas pequenas coisas.'),\n",
    "('A felicidade está em abraçar a vida com gratidão.'),\n",
    "('A felicidade está em celebrar cada conquista, por menor que seja.'),\n",
    "('A felicidade está em ser autêntico e verdadeiro consigo mesmo.'),\n",
    "('Sorria, a felicidade é o caminho para o sucesso.'),\n",
    "('A felicidade está em compartilhar sorrisos e risadas com os outros.'),\n",
    "('A verdadeira felicidade está em ser você mesmo.'),\n",
    "('A felicidade está em ser gentil e generoso.'),\n",
    "('Sorria, a felicidade é um presente que você dá a si mesmo.'),\n",
    "('A felicidade está em abraçar a diversidade da vida.'),\n",
    "('A felicidade está em superar desafios com determinação.'),\n",
    "('A felicidade está em encontrar beleza em cada dia.'),\n",
    "('Sorria, a felicidade é a melhor resposta para a adversidade.'),\n",
    "('A felicidade está em acreditar no poder dos sonhos.'),\n",
    "('A felicidade está em cultivar relacionamentos genuínos.'),\n",
    "('A felicidade está em ver o mundo com olhos de criança.'),\n",
    "('Sorria, a felicidade é o melhor presente que você pode dar aos outros.'),\n",
    "('A felicidade está em agradecer por todas as bênçãos.'),\n",
    "('A felicidade está em celebrar a diversidade da vida.'),\n",
    "('A felicidade está em construir memórias felizes.'),\n",
    "('A felicidade está em amar e ser amado.'),\n",
    "('Sorria, a felicidade é contagiosa, compartilhe-a com o mundo.'),\n",
    "('A verdadeira riqueza está na alegria de viver.'),\n",
    "('A felicidade está em apreciar a beleza da natureza.'),\n",
    "('A felicidade está em valorizar as pequenas coisas da vida.'),\n",
    "('A felicidade está em espalhar positividade e esperança.'),\n",
    "('A felicidade está em acreditar em um futuro brilhante.'),\n",
    "('Sorria, a felicidade é o segredo da longevidade.'),\n",
    "('A felicidade está em celebrar as pequenas vitórias.'),\n",
    "('A felicidade está em abraçar a jornada da vida.'),\n",
    "('A felicidade está em compartilhar risadas e abraços com entes queridos.'),\n",
    "('Sorria, a felicidade é o combustível da vida.'),\n",
    "('A verdadeira riqueza está na felicidade interior.'),\n",
    "('A felicidade está em encontrar a paz interior.'),\n",
    "('A felicidade está em espalhar amor e bondade.'),\n",
    "('A felicidade está em viver uma vida autêntica.'),\n",
    "('A felicidade está em celebrar cada novo dia como um presente.'),\n",
    "('A felicidade está em compartilhar amor e gratidão.'),\n",
    "('Sorria, a felicidade é o melhor remédio para o coração.'),\n",
    "('A verdadeira riqueza está na simplicidade da felicidade.'),\n",
    "('A felicidade está em aprender com as experiências da vida.'),\n",
    "('A felicidade está em viver com propósito e significado.'),\n",
    "('A felicidade está em ser grato por todas as bênçãos.'),\n",
    "('A felicidade está em ver o lado positivo da vida.'),\n",
    "('Sorria, a felicidade é a música da alma.'),\n",
    "('A verdadeira riqueza está na alegria do coração.'),\n",
    "('A felicidade está em acreditar no poder da bondade.'),\n",
    "('A felicidade está em abraçar a diversidade da vida.'),\n",
    "('A felicidade está em dar e receber amor e compreensão.'),\n",
    "('Sorria, a felicidade é a luz que ilumina o caminho.'),\n",
    "('A felicidade está em viver o presente com um coração grato.'),\n",
    "('A verdadeira riqueza está na alegria de ser quem você é.'),\n",
    "('A felicidade está em viver com paixão e entusiasmo.'),\n",
    "('A felicidade está em abraçar a jornada da vida com coragem.'),\n",
    "('A felicidade está em compartilhar momentos especiais com entes queridos.'),\n",
    "('A felicidade está em ser gentil com os outros e consigo mesmo.'),\n",
    "('Sorria, a felicidade é o segredo para uma vida plena e feliz.'),\n",
    "('A verdadeira riqueza está na alegria de viver o presente.'),\n",
    "('A felicidade está em celebrar cada novo dia como um presente precioso.'),\n",
    "('A felicidade está em compartilhar amor, gratidão e generosidade.'),\n",
    "('A felicidade está em espalhar positividade e esperança para o mundo.'),\n",
    "('Sorria, a felicidade está nas coisas simples da vida.'),\n",
    "('A verdadeira riqueza está na alegria de compartilhar com os outros.'),\n",
    "('A felicidade está em cultivar relacionamentos genuínos e significativos.'),\n",
    "('A felicidade está em ver o mundo com olhos de compaixão.'),\n",
    "('A felicidade está em acreditar na beleza da vida.'),\n",
    "('A felicidade está em abraçar a diversidade e a unicidade da vida.'),\n",
    "('Sorria, a felicidade é a melhor resposta para a adversidade.'),\n",
    "('A verdadeira riqueza está na alegria de ser quem você é.'),\n",
    "('A felicidade está em viver o presente com gratidão e alegria.'),\n",
    "('A felicidade está em ser grato por cada dia e por cada momento.'),\n",
    "('A felicidade está em celebrar a diversidade e a riqueza da vida.'),\n",
    "('A felicidade está em compartilhar amor e esperança com o mundo.'),\n",
    "('Sorria, a felicidade é o caminho para a realização dos sonhos.'),\n",
    "('A verdadeira riqueza está na alegria de viver o presente com intensidade.'),\n",
    "('A felicidade está em espalhar positividade e luz para o mundo.'),\n",
    "('A felicidade está em acreditar no poder dos sonhos e na força da fé.'),\n",
    "('A felicidade está em ser gentil e compassivo com os outros e consigo mesmo.'),\n",
    "('Sorria, a felicidade é o melhor presente que você pode dar a si mesmo e aos outros.'),\n",
    "('A verdadeira riqueza está na alegria de compartilhar amor e compreensão.'),\n",
    "('A felicidade está em cultivar relacionamentos genuínos e duradouros.'),\n",
    "('A felicidade está em ver o mundo com olhos de esperança e otimismo.'),\n",
    "('A felicidade está em acreditar na beleza da vida e na magia do presente.'),\n",
    "('Sorria, a felicidade é a música da alma e a luz do coração.'),\n",
    "('A verdadeira riqueza está na alegria de ser grato por todas as bênçãos.'),\n",
    "('A felicidade está em celebrar a diversidade e a unicidade de cada ser humano.'),\n",
    "('A felicidade está em viver o presente com propósito e significado.'),\n",
    "('A felicidade está em compartilhar amor, gratidão e generosidade com o mundo.'),\n",
    "('Sorria, a felicidade é o segredo para uma vida plena, rica e feliz.'),\n",
    "('A verdadeira riqueza está na alegria de abraçar a vida com coragem e determinação.'),\n",
    "('A felicidade está em viver cada dia com alegria e esperança.'),\n",
    "\n",
    "\n",
    "baseteste =[\n",
    "('o mundo e feio como o pecado','desgosto'),\n",
    "('a coisa mais difícil de esconder e aquilo que não existe','desgosto'),\n",
    "('você errou feio aquele gol','desgosto'),\n",
    "('nunca vou me casar sou muito feia','desgosto'),\n",
    "('os golpes da adversidade são terrivelmente amargos','desgosto'),\n",
    "('os homem ficam terrivelmente chatos','desgosto'),\n",
    "('abominavelmente convencido','desgosto'),\n",
    "('terrivelmente irritado','desgosto'),\n",
    "('as instituições publicas estão terrivelmente decadentes','desgosto'),\n",
    "('a população viveu em isolamento por muito tempo','desgosto'),\n",
    "('estou terrivelmente preocupada','desgosto'),\n",
    "('o nacionalismo e uma doença infantil','desgosto'),\n",
    "('se me es antipático a minha negação esta pronta','desgosto'),\n",
    "('muitos documentários sobre esse casal antipático','desgosto'),\n",
    "('sua beleza não desfaça sua antipatia','desgosto'),\n",
    "('esta e uma experiência desagradável','desgosto'),\n",
    "('desagradável estrago nos banheiros','desgosto'),\n",
    "('o mais irritante no amor e que se trata de um crime que precisa de um cúmplice','desgosto'),\n",
    "('a situação nos causa grande incomodo','desgosto'),\n",
    "('estou preocupado com o incomodo na garganta','desgosto'),\n",
    "('simplesmente não quero amolação da policia','desgosto'),\n",
    "('você e uma criaturinha muito impertinente','desgosto'),\n",
    "('o peso e a dor da vida','desgosto'),\n",
    "('me arrependo amargamente de minhas ações','desgosto'),\n",
    "('o destino e cruel e os homens não são dignos de compaixão','desgosto'),\n",
    "('o ódio conduz ao isolamento cruel e ao desespero','desgosto'),\n",
    "('encerrou com o massacre mais repudiável e asqueroso que se conhece','desgosto'),\n",
    "('de mal gosto e asqueroso','desgosto'),\n",
    "('tudo e inserto neste mundo hediondo','desgosto'),\n",
    "('o crime de corrupção e um crime hediondo','desgosto'),\n",
    "('o rio esta fetido e de cor escura','desgosto'),\n",
    "('muito lixo no rio o deixa malcheiroso','desgosto'),\n",
    "('existe uma laranja podre no grupo e já desconfiamos quem e','desgosto'),\n",
    "('foi de repente estou machucado e me sentindo enjoado','desgosto'),\n",
    "('eu fiquei enojado','desgosto'),\n",
    "('daqui alguns meses vou embora deste pais que já estou nauseado','desgosto'),\n",
    "\n",
    "('isso tudo e um erro','tristeza'),\n",
    "('eu sou errada eu sou errante','tristeza'),\n",
    "('tenho muito dó do cachorro','tristeza'),\n",
    "('e dolorida a perda de um filho','tristeza'),\n",
    "('essa tragedia vai nos abalar para sempre','tristeza'),\n",
    "('perdi meus filhos','tristeza'),\n",
    "('perdi meu curso','tristeza'),\n",
    "('sou só uma chorona','tristeza'),\n",
    "('você e um chorão','tristeza'),\n",
    "('se arrependimento matasse','tristeza'),\n",
    "('me sinto deslocado em sala de aula','tristeza'),\n",
    "('foi uma passagem fúnebre','tristeza'),\n",
    "('nossa condolências e tristeza a sua perda','tristeza'),\n",
    "('desanimo, raiva, solidão ou vazies, depressão','tristeza'),\n",
    "('vivo te desanimando','tristeza'),\n",
    "('estou desanimado','tristeza'),\n",
    "('imperador sanguinário, depravado e temeroso','tristeza'),\n",
    "('meu ser esta em agonia','tristeza'),\n",
    "('este atrito entre nos tem que acabar','tristeza'),\n",
    "('a escuridão desola meu ser','tristeza'),\n",
    "('sua falsa preocupação','tristeza'),\n",
    "('sua falsidade me entristece','tristeza'),\n",
    "('quem esta descontente com os outros esta descontente consigo próprio','tristeza'),\n",
    "('a torcida esta descontente com a demissão do tecnico','tristeza'),\n",
    "('estou bastante aborrecido com o jornal','tristeza'),\n",
    "('me sinto solitário e entediado','tristeza'),\n",
    "('a vida e solitária para aqueles que não são falsos','tristeza'),\n",
    "('como com compulsão depois da depressão','tristeza'),\n",
    "('estou me desencorajando a viver','tristeza'),\n",
    "('ele desencoraja minhas vontades','tristeza'),\n",
    "('isso vai deprimindo por dentro','tristeza'),\n",
    "('acho que isso e defeituoso','tristeza'),\n",
    "('os remedios me derrubam na cama','tristeza'),\n",
    "('a depressão vai me derrubar','tristeza'),\n",
    "('suas desculpas são falsas','tristeza'),\n",
    "('não magoe as pessoas','tristeza'),\n",
    "\n",
    "('que abominável esse montro!','medo'),\n",
    "('vamos alarmar a todos sobre a situação','medo'),\n",
    "('estou amedrontada','medo'),\n",
    "('estou com muito medo da noite','medo'),\n",
    "('ele esta me ameaçando a dias','medo'),\n",
    "('quanta angustia','medo'),\n",
    "('estou angustiada','medo'),\n",
    "('angustiadamente vou sair e casa','medo'),\n",
    "('isso me deixa apavorada','medo'),\n",
    "('você esta me apavorando','medo'),\n",
    "('estou desconfiada de você','medo'),\n",
    "('não confio em você','medo'),\n",
    "('ate o cachorro está apavorado','medo'),\n",
    "('estou assustado com as ações do meu colega','medo'),\n",
    "('agora se sente humilhado, apavorado','medo'),\n",
    "('assustou a população e provocou mortes','medo'),\n",
    "('estou com dificuldades para respirar e muito assustado','medo'),\n",
    "('os policiais se assustaram quando o carro capotou','medo'),\n",
    "('o trabalhador e assombrado pelo temor do desemprego','medo'),\n",
    "('este lugar e mal assombrado','medo'),\n",
    "('estou assombrado pela crise financeira','medo'),\n",
    "('mesmo aterrorizado lembro de você','medo'),\n",
    "('aterrorizado e suando frio','medo'),\n",
    "('um grupo de elefantes selvagens tem aterrorizado vilas','medo'),\n",
    "('me sinto intimidada pela sua presença','medo'),\n",
    "('tenho medo de ser advertida novamente','medo'),\n",
    "('estou correndo o risco de ser advertido','medo'),\n",
    "('estou correndo riscos de saúde','medo'),\n",
    "('os riscos são reais','medo'),\n",
    "('podemos perder muito dinheiro com essa investida','medo'),\n",
    "('socorro, fui intimado a depor','medo'),\n",
    "('fui notificado e estou com medo de perde a guarda da minha filha','medo'),\n",
    "('estou angustiada com meus filhos na rua','medo'),\n",
    "('e abominável o que fazem com os animais','medo'),\n",
    "('foi terrível o tigre quase o matou','medo'),\n",
    "('me advertiram sobre isso','medo')]"
   ]
  },
  {
   "cell_type": "code",
   "execution_count": 4,
   "metadata": {},
   "outputs": [],
   "source": [
    "# Base de Dados para Exemplificar o Modelo de Não Estruturado de Dados\n",
    "base = [('eu sou admirada por muitos','alegria'),\n",
    "        ('me sinto completamente amado','alegria'),\n",
    "        ('amar e maravilhoso','alegria'),\n",
    "        ('estou me sentindo muito animado novamente','alegria'),\n",
    "        ('eu estou muito bem hoje','alegria'),\n",
    "        ('que belo dia para dirigir um carro novo','alegria'),\n",
    "        ('o dia está muito bonito','alegria'),\n",
    "        ('estou contente com o resultado do teste que fiz no dia de ontem','alegria'),\n",
    "        ('o amor e lindo','alegria'),\n",
    "        ('nossa amizade e amor vai durar para sempre', 'alegria'),\n",
    "        ('estou amedrontado', 'medo'),\n",
    "        ('ele esta me ameacando a dias', 'medo'),\n",
    "        ('isso me deixa apavorada', 'medo'),\n",
    "        ('este lugar e apavorante', 'medo'),\n",
    "        ('se perdermos outro jogo seremos eliminados e isso me deixa com pavor', 'medo'),\n",
    "        ('tome cuidado com o lobisomem', 'medo'),\n",
    "        ('se eles descobrirem estamos encrencados', 'medo'),\n",
    "        ('estou tremendo de medo', 'medo'),\n",
    "        ('eu tenho muito medo dele', 'medo'),\n",
    "        ('estou com medo do resultado dos meus testes', 'medo')]"
   ]
  },
  {
   "cell_type": "code",
   "execution_count": 5,
   "metadata": {},
   "outputs": [],
   "source": [
    "# Criação de Variável que armazenará as StopWords."
   ]
  },
  {
   "cell_type": "code",
   "execution_count": 6,
   "metadata": {},
   "outputs": [],
   "source": [
    "stopwords = ['a', 'agora', 'algum', 'alguma', 'aquele', 'aqueles', 'de', 'deu', 'do', 'e', 'estou', 'esta', 'esta',\n",
    "             'ir', 'meu', 'muito', 'mesmo', 'no', 'nossa', 'o', 'outro', 'para', 'que', 'sem', 'talvez', 'tem', 'tendo',\n",
    "             'tenha', 'teve', 'tive', 'todo', 'um', 'uma', 'umas', 'uns', 'vou']"
   ]
  },
  {
   "cell_type": "code",
   "execution_count": 7,
   "metadata": {},
   "outputs": [],
   "source": [
    "# Chamando os métodos nltk.corpus na linguagem portuguesa.\n",
    "stopwordsnltk = nltk.corpus.stopwords.words('portuguese')\n",
    "stopwordsnltk.append('vou')\n",
    "stopwordsnltk.append('tão')"
   ]
  },
  {
   "cell_type": "code",
   "execution_count": 8,
   "metadata": {},
   "outputs": [
    {
     "name": "stdout",
     "output_type": "stream",
     "text": [
      "Lista de Palavras do Stop Words NLTK ['a', 'à', 'ao', 'aos', 'aquela', 'aquelas', 'aquele', 'aqueles', 'aquilo', 'as', 'às', 'até', 'com', 'como', 'da', 'das', 'de', 'dela', 'delas', 'dele', 'deles', 'depois', 'do', 'dos', 'e', 'é', 'ela', 'elas', 'ele', 'eles', 'em', 'entre', 'era', 'eram', 'éramos', 'essa', 'essas', 'esse', 'esses', 'esta', 'está', 'estamos', 'estão', 'estar', 'estas', 'estava', 'estavam', 'estávamos', 'este', 'esteja', 'estejam', 'estejamos', 'estes', 'esteve', 'estive', 'estivemos', 'estiver', 'estivera', 'estiveram', 'estivéramos', 'estiverem', 'estivermos', 'estivesse', 'estivessem', 'estivéssemos', 'estou', 'eu', 'foi', 'fomos', 'for', 'fora', 'foram', 'fôramos', 'forem', 'formos', 'fosse', 'fossem', 'fôssemos', 'fui', 'há', 'haja', 'hajam', 'hajamos', 'hão', 'havemos', 'haver', 'hei', 'houve', 'houvemos', 'houver', 'houvera', 'houverá', 'houveram', 'houvéramos', 'houverão', 'houverei', 'houverem', 'houveremos', 'houveria', 'houveriam', 'houveríamos', 'houvermos', 'houvesse', 'houvessem', 'houvéssemos', 'isso', 'isto', 'já', 'lhe', 'lhes', 'mais', 'mas', 'me', 'mesmo', 'meu', 'meus', 'minha', 'minhas', 'muito', 'na', 'não', 'nas', 'nem', 'no', 'nos', 'nós', 'nossa', 'nossas', 'nosso', 'nossos', 'num', 'numa', 'o', 'os', 'ou', 'para', 'pela', 'pelas', 'pelo', 'pelos', 'por', 'qual', 'quando', 'que', 'quem', 'são', 'se', 'seja', 'sejam', 'sejamos', 'sem', 'ser', 'será', 'serão', 'serei', 'seremos', 'seria', 'seriam', 'seríamos', 'seu', 'seus', 'só', 'somos', 'sou', 'sua', 'suas', 'também', 'te', 'tem', 'tém', 'temos', 'tenha', 'tenham', 'tenhamos', 'tenho', 'terá', 'terão', 'terei', 'teremos', 'teria', 'teriam', 'teríamos', 'teu', 'teus', 'teve', 'tinha', 'tinham', 'tínhamos', 'tive', 'tivemos', 'tiver', 'tivera', 'tiveram', 'tivéramos', 'tiverem', 'tivermos', 'tivesse', 'tivessem', 'tivéssemos', 'tu', 'tua', 'tuas', 'um', 'uma', 'você', 'vocês', 'vos', 'vou', 'tão']\n"
     ]
    }
   ],
   "source": [
    "# Chamada de método para exibir os dados stopwordsnltk\n",
    "print('Lista de Palavras do Stop Words NLTK' , stopwordsnltk)"
   ]
  },
  {
   "cell_type": "code",
   "execution_count": 9,
   "metadata": {},
   "outputs": [],
   "source": [
    "# Método Aplicando Stemmer nas Palavras Identificadas (Radical das Palavras)\n",
    "def aplicastemmer(texto):\n",
    "    stemmer = nltk.stem.RSLPStemmer()\n",
    "    frasessstemming = []\n",
    "    for (palavras, emocao) in texto:\n",
    "        comstemming = [str(stemmer.stem(p)) for p in palavras.split() if p not in stopwordsnltk]\n",
    "        frasessstemming.append((comstemming, emocao))\n",
    "    return frasessstemming"
   ]
  },
  {
   "cell_type": "code",
   "execution_count": 10,
   "metadata": {},
   "outputs": [
    {
     "name": "stdout",
     "output_type": "stream",
     "text": [
      "[(['abomin'], 'desgosto'), (['abomin', 'man', 'age'], 'desgosto'), (['adoent'], 'desgosto'), (['pai', 'adoent'], 'desgosto'), (['tod', 'doent'], 'desgosto'), (['situ', 'amarg'], 'desgosto'), (['diss', 'adeu', 'amarg'], 'desgosto'), (['antipat', 'pesso'], 'desgosto'), (['pod', 'antipática!'], 'desgosto'), (['horr', 'asquer'], 'desgosto'), (['avers', 'agent'], 'desgosto'), (['tud', 'chate'], 'desgosto'), (['chate', 'ment'], 'desgosto'), (['desagrad'], 'desgosto'), (['desagr', 'complet'], 'desgosto'), (['desagr'], 'desgosto'), (['enjô', 'terr'], 'desgosto'), (['tod', 'enf'], 'desgosto'), (['enferm', 'terr'], 'desgosto'), (['grav'], 'desgosto'), (['gross'], 'desgosto'), (['fez', 'manobr', 'ileg'], 'desgosto'), (['indecente,', 'vergonha?'], 'desgosto'), (['malv', 'crianç'], 'desgosto'), (['coment', 'mald'], 'desgosto'), (['escrúpul', 'manipul', 'tud'], 'desgosto'), (['sint', 'repuls'], 'desgosto'), (['repuls', 'man', 'olh', 'pesso'], 'desgosto'), (['indispost'], 'desgosto'), (['indispos', 'atac', 'hoj'], 'desgosto'), (['ach', 'vomit'], 'desgosto'), (['vomit', 'lá'], 'desgosto'), (['incomod', 'dor'], 'desgosto'), (['incomod', 'nunc'], 'desgosto'), (['bob', 'incomod'], 'desgosto'), (['noj', 'olh', 'tod', 'suj'], 'desgosto'), (['suj'], 'desgosto'), (['náuse', 'lembr'], 'desgosto'), (['sint', 'nause', 'cheir', 'dest', 'com'], 'desgosto'), (['obstru', 'pass', 'ar'], 'desgosto'), (['terri', 'doent'], 'desgosto'), (['olh', 'fei', 'roup'], 'desgosto'), (['atitud', 'deplor'], 'desgosto'), (['fei'], 'desgosto'), (['mau', 'tud'], 'desgosto'), (['desgost'], 'desgosto'), (['cort', 'assunt'], 'desgosto'), (['tant', 'chateação?'], 'desgosto'), (['perfum', 'enjo'], 'desgosto'), (['perig', 'nad', 'bom'], 'desgosto'), (['perig', 'demal', 'filh'], 'desgosto'), (['fet', 'esgot'], 'desgosto'), (['fed'], 'desgosto'), (['cachorr', 'malcheir'], 'desgosto'), (['hor', 'ultraj'], 'desgosto'), (['ultraj', 'part'], 'desgosto'), (['situ', 'desagrad'], 'desgosto'), (['desgost'], 'desgosto'), (['avers', 'pesso', 'assim'], 'desgosto'), (['antipat', 'mal', 'sociedad'], 'desgosto'), (['criat', 'abomin'], 'desgosto'), (['depress', 'man', 'vê', 'mund'], 'desgosto'), (['desagr', 'presenç', 'fest'], 'desgosto'), (['sint', 'asc', 'dess', 'cois'], 'desgosto'), (['hediondo!'], 'desgosto'), (['golf', 'caf'], 'desgosto'), (['hor', 'garot', 'detestável!'], 'desgosto'), (['nause'], 'desgosto'), (['diss', 'grav'], 'desgosto'), (['obscen', 'frent', 'crianç'], 'desgosto'), (['rud', 'visit'], 'desgosto'), (['assunt', 'repuls'], 'desgosto'), (['crianç', 'terri', 'travess'], 'desgosto'), (['crianç', 'mal', 'educ'], 'desgosto'), (['indispost', 'dar', 'divorci'], 'desgosto'), (['patetico,', 'nad', 'rud', 'dizer?'], 'desgosto'), (['motiv', 'torpe,', 'empreg', 'mei', 'cruel', 'impossibil', 'defês', 'vítim'], 'desgosto'), (['invej', 'vil', 'vergonh', 'ning', 'atrev', 'confessá-l'], 'desgosto'), (['miser', 'recei', 'sentiment', 'vil', 'tod', 'recei', 'modern'], 'desgosto'), (['travess', 'gat', 'fic', 'saudad', 'don', 'mij', 'sapat'], 'desgosto'), (['ato', 'detest', 'cov'], 'desgosto'), (['revel', 'apen', 'destru', 'detest', 'pov'], 'desgosto'), (['sei', 'vid', 'patife,', 'hom', 'honest', 'abomin'], 'desgosto'), (['cois', 'suport', 'ach', 'vid', 'insuport'], 'desgosto'), (['injur', 'temp', 'injustiç', 'hom'], 'desgosto'), (['odi', 'desum'], 'desgosto'), (['public', 'conteúd', 'odiento,', 'pornográf', 'ameaç'], 'desgosto'), (['rancor', 'reprim'], 'desgosto'), (['animal', 'degradante,', 'estúpido,', 'covarde,', 'lamentável,', 'egoísta,', 'rancor', 'invej', 'hom'], 'desgosto'), (['virulent', 'debat', 'ent', 'polít'], 'desgosto'), (['favor', 'abandon'], 'tristeza'), (['quer', 'fic', 'so'], 'tristeza'), (['deix', 'so'], 'tristeza'), (['abat'], 'tristeza'), (['tod', 'abat'], 'tristeza'), (['trist', 'palavr'], 'tristeza'), (['am'], 'tristeza'), (['aborrec'], 'tristeza'), (['vai', 'aborrec'], 'tristeza'), (['muit', 'afl'], 'tristeza'), (['aflig', 'mod', 'fal'], 'tristeza'), (['agon', 'intim'], 'tristeza'), (['quer', 'faz', 'nad'], 'tristeza'), (['sint', 'ansi', 'tens'], 'tristeza'), (['consig', 'par', 'chor'], 'tristeza'), (['consig', 'segur', 'lagr'], 'tristeza'), (['muit', 'dor', 'perd', 'ent', 'quer'], 'tristeza'), (['real', 'arrepend'], 'tristeza'), (['ach', 'carm', 'volta,', 'poi', 'agor', 'sofr'], 'tristeza'), (['cumpr', 'promess'], 'tristeza'), (['sint', 'amargur'], 'tristeza'), (['coit', 'trist'], 'tristeza'), (['tard'], 'tristeza'), (['am', 'acab'], 'tristeza'), (['noit', 'machuc', 'mim'], 'tristeza'), (['coraçã'], 'tristeza'), (['mud', 'comig'], 'tristeza'), (['pens', 'real', 'dói'], 'tristeza'), (['nad', 'vê', 'lagr'], 'tristeza'), (['diss', 'cruel', 'arrepend'], 'tristeza'), (['nunc', 'ver'], 'tristeza'), (['depress'], 'tristeza'), (['depress', 'aflig', 'pesso'], 'tristeza'), (['depress', 'ruim'], 'tristeza'), (['derrot', 'deprim', 'dest', 'dia'], 'tristeza'), (['comov', 'ver', 'dess', 'man'], 'tristeza'), (['comov', 'ver', 'filh', 'brasil', 'pass'], 'tristeza'), (['sint', 'culp'], 'tristeza'), (['abat'], 'tristeza'), (['ansiedad', 'tom', 'cont', 'mim'], 'tristeza'), (['pesso', 'gost', 'jeit'], 'tristeza'), (['adeu', 'pass', 'bom', 'moment', 'junt'], 'tristeza'), (['sint', 'falt'], 'tristeza'), (['gost', 'com'], 'tristeza'), (['dinh', 'com'], 'tristeza'), (['quer', 'ult', 'dia', 'vid'], 'tristeza'), (['vergonh', 'mim'], 'tristeza'), (['aceit', 'propost'], 'tristeza'), (['ult', 'centav'], 'tristeza'), (['reprov', 'ano', 'faculdad'], 'tristeza'), (['afinal', 'sab', 'desfaz'], 'tristeza'), (['falh', 'tud', 'ness', 'vid'], 'tristeza'), (['humilh'], 'tristeza'), (['histór', 'trist'], 'tristeza'), (['ning', 'acredit', 'mim'], 'tristeza'), (['sirv', 'nad'], 'tristeza'), (['droga,', 'faç', 'nad', 'direit'], 'tristeza'), (['sofr', 'dobr', 'vid'], 'tristeza'), (['demit', 'seman'], 'tristeza'), (['crianç', 'sofr', 'aind', 'adult'], 'tristeza'), (['pra', 'mim', 'dia', 'ruim,', 'outr', 'pi'], 'tristeza'), (['repent', 'perd', 'apetit'], 'tristeza'), (['oh', 'dia', 'infeliz'], 'tristeza'), (['afund', 'cont'], 'tristeza'), (['milagr', 'pod', 'salv'], 'tristeza'), (['rest', 'esperanç'], 'tristeza'), (['pi', 'pod', 'fic'], 'tristeza'), (['salári', 'baix'], 'tristeza'), (['pass', 'vestibul'], 'tristeza'), (['ning', 'import', 'comig'], 'tristeza'), (['ning', 'lembr', 'aniversári'], 'tristeza'), (['tant', 'azar'], 'tristeza'), (['gost', 'vinganç', 'amarg'], 'tristeza'), (['mulh', 'amargur', 'deix'], 'tristeza'), (['desanim', 'vid'], 'tristeza'), (['desan', 'coit'], 'tristeza'), (['derrot', 'depress'], 'tristeza'), (['discrimin', 'desum'], 'tristeza'), (['desan'], 'tristeza'), (['desonr', 'pal'], 'tristeza'), (['preocup', 'dev', 'lev', 'açã', 'depress'], 'tristeza'), (['pass', 'desalent', 'louc'], 'tristeza'), (['nunc', 'viu', 'trist', 'nunc', 'reconhec', 'alegr'], 'tristeza'), (['cuid', 'trist', 'vici'], 'tristeza'), (['imploro,', 'matem!'], 'medo'), (['cert', 'perigoso?'], 'medo'), (['cert', 'segur'], 'medo'), (['corr', 'pra', 'peg'], 'medo'), (['socorro!', 'quer', 'roub', 'doces!'], 'medo'), (['car', 'persegu'], 'medo'), (['entr', 'lá,', 'lug', 'perig'], 'medo'), (['lug', 'continu', 'assust'], 'medo'), (['selv', 'muit', 'animal', 'perig'], 'medo'), (['avanc', 'cautel'], 'medo'), (['lug', 'silenci', 'mais,', 'cuidado!'], 'medo'), (['favor,', 'deixe-m', 'viver!'], 'medo'), (['fic', 'mes', 'tir', 'not', 'baix'], 'medo'), (['parec', 'olh', 'vigi'], 'medo'), (['tem', 'sentenç', 'juiz', 'poss', 'nega'], 'medo'), (['miss', 'arrisc'], 'medo'), (['salvem-s', 'puder!'], 'medo'), (['plan', 'pod', 'descobert'], 'medo'), (['culpa,', 'jur'], 'medo'), (['tom', 'cuid', 'lobisom'], 'medo'), (['achar,', 'vai', 'descobr', 'verdad'], 'medo'), (['deus,', 'desapareceu!'], 'medo'), (['tom', 'vej', 'daqui!'], 'medo'), (['mantenh', 'segredo,', 'descobr', 'est', 'ferr'], 'medo'), (['favor,', 'soltem,', 'inoc'], 'medo'), (['ouv', 'pass', 'atrás', 'mim'], 'medo'), (['ped', 'socorro!'], 'medo'), (['cuid', 'curv', 'estr'], 'medo'), (['sei', 'não,', 'parec', 'perig'], 'medo'), (['trem', 'medo!'], 'medo'), (['socorro,', 'cair!'], 'medo'), (['ate', 'florest', 'negra,', 'perig'], 'medo'), (['ouç', 'pass', 'direç'], 'medo'), (['ach', 'arrisc'], 'medo'), (['vam', 'voltar,', 'perig'], 'medo'), (['fuja,', 'acab', 'mort'], 'medo'), (['recei', 'livr', 'dest', 'situ'], 'medo'), (['socorro!', 'armado!'], 'medo'), (['ei', 'cuidado,', 'vai', 'bat', 'poste!'], 'medo'), (['socorro,', 'afund'], 'medo'), (['serio,', 'cuid', 'arma!'], 'medo'), (['tub', 'atacando!'], 'medo'), (['sint', 'arrepi', 'fic', 'so', 'escur'], 'medo'), (['calma,', 'dinh'], 'medo'), (['ach', 'send', 'engan'], 'medo'), (['ligeiro,', 'fug', 'depress'], 'medo'), (['crocodil', 'selv', 'vind', 'cá'], 'medo'), (['fic', 'quiet', 'vão', 'ach'], 'medo'), (['fuja!', 'tigr', 'parec', 'famint'], 'medo'), (['saída,', 'precis', 'milagr'], 'medo'), (['tir', 'mim!', 'socorro!'], 'medo'), (['sei', 'nadar,', 'afogar!'], 'medo'), (['cert', 'segur'], 'medo'), (['apanh', 'pal', 'ver', 'boletim'], 'medo'), (['consig', 'sair', 'daqui!'], 'medo'), (['sair', 'tarde,', 'pod', 'assalt'], 'medo'), (['deix', 'favor!'], 'medo'), (['espere,', 'pod', 'larg', 'aqu', 'so'], 'medo'), (['tem', 'seguranç'], 'medo'), (['entreg', 'dinheiro,', 'favor', 'mate!'], 'medo'), (['vai', 'lev', 'tod', 'dinh'], 'medo'), (['dirij', 'rápid', 'assim'], 'medo'), (['descobriram,', 'irã', 'prender!'], 'medo'), (['esper', 'faç', 'nenhum', 'mal'], 'medo'), (['afogar,', 'ajud', 'sair', 'águ'], 'medo'), (['est', 'salv', 'aqu'], 'medo'), (['quer', 'pens', 'pod', 'acontec'], 'medo'), (['ness', 'cidad', 'desgr', 'atrás', 'outr'], 'medo'), (['algu', 'ligando,', 'assust'], 'medo'), (['remedio,', 'mat'], 'medo'), (['confi', 'nele,', 'ter', 'cautel'], 'medo'), (['muit', 'cautel'], 'medo'), (['descoberto,', 'deu'], 'medo'), (['recei', 'ir'], 'medo'), (['noit', 'perig'], 'medo'), (['estremec', 'cas'], 'medo'), (['olh', 'criat', 'mov', 'monstruos'], 'medo'), (['agüent', 'suspens'], 'medo'), (['afug', 'cão'], 'medo'), (['choc', 'amedront', 'assassinat', 'brut'], 'medo'), (['precis', 'afugent', 'ímpet', 'med', 'infern'], 'medo'), (['polít', 'us', 'forç', 'afugent', 'amedront', 'pov'], 'medo'), (['obje', 'diss', 'apen', 'amedront'], 'medo'), (['apav'], 'medo')]\n"
     ]
    }
   ],
   "source": [
    "frasescomstemmingtreinamento = aplicastemmer(basetreinamento)\n",
    "frasescomstemmingteste = aplicastemmer(baseteste)\n",
    "print(frasescomstemmingtreinamento)\n",
    "#print(frasescomstemming)"
   ]
  },
  {
   "cell_type": "code",
   "execution_count": 11,
   "metadata": {},
   "outputs": [
    {
     "name": "stdout",
     "output_type": "stream",
     "text": [
      "[(['admir', 'muit'], 'alegria'), (['sint', 'complet', 'am'], 'alegria'), (['am', 'maravilh'], 'alegria'), (['sent', 'anim', 'nov'], 'alegria'), (['bem', 'hoj'], 'alegria'), (['bel', 'dia', 'dirig', 'carr', 'nov'], 'alegria'), (['dia', 'bonit'], 'alegria'), (['cont', 'result', 'test', 'fiz', 'dia', 'ont'], 'alegria'), (['am', 'lind'], 'alegria'), (['amizad', 'am', 'vai', 'dur', 'sempr'], 'alegria'), (['amedront'], 'medo'), (['ameac', 'dia'], 'medo'), (['deix', 'apavor'], 'medo'), (['lug', 'apavor'], 'medo'), (['perd', 'outr', 'jog', 'elimin', 'deix', 'pav'], 'medo'), (['tom', 'cuid', 'lobisom'], 'medo'), (['descobr', 'encrenc'], 'medo'), (['trem', 'med'], 'medo'), (['med'], 'medo'), (['med', 'result', 'test'], 'medo')]\n"
     ]
    }
   ],
   "source": [
    "# Chamada do método que aplica Stemmer no Texto Base\n",
    "frasescomstemming = aplicastemmer(base)\n",
    "frasescomstemmingteste = aplicastemmer(base)\n",
    "print(frasescomstemming)"
   ]
  },
  {
   "cell_type": "code",
   "execution_count": 12,
   "metadata": {},
   "outputs": [],
   "source": [
    "# Método para buscar Palavras em Texto ou Bloco de Textos.\n",
    "def buscapalavras(frases):\n",
    "    todaspalavras = []\n",
    "    for (palavras, emocao) in frases:\n",
    "        todaspalavras.extend(palavras)\n",
    "    return todaspalavras"
   ]
  },
  {
   "cell_type": "code",
   "execution_count": 13,
   "metadata": {},
   "outputs": [
    {
     "name": "stdout",
     "output_type": "stream",
     "text": [
      "['admir', 'muit', 'sint', 'complet', 'am', 'am', 'maravilh', 'sent', 'anim', 'nov', 'bem', 'hoj', 'bel', 'dia', 'dirig', 'carr', 'nov', 'dia', 'bonit', 'cont', 'result', 'test', 'fiz', 'dia', 'ont', 'am', 'lind', 'amizad', 'am', 'vai', 'dur', 'sempr', 'amedront', 'ameac', 'dia', 'deix', 'apavor', 'lug', 'apavor', 'perd', 'outr', 'jog', 'elimin', 'deix', 'pav', 'tom', 'cuid', 'lobisom', 'descobr', 'encrenc', 'trem', 'med', 'med', 'med', 'result', 'test']\n"
     ]
    }
   ],
   "source": [
    "# Busca de Palavras executando o método buscapalavras.\n",
    "#palavrastreinamento = buscapalavras(frasescomstemmingtreinamento)\n",
    "#palavrasteste = buscapalavras(frasescomstemmingteste)\n",
    "palavras = buscapalavras(frasescomstemming)\n",
    "print(palavras)\n"
   ]
  },
  {
   "cell_type": "code",
   "execution_count": 14,
   "metadata": {},
   "outputs": [],
   "source": [
    "# Método para verificar a distribuição de frequencia das palavras no texto."
   ]
  },
  {
   "cell_type": "code",
   "execution_count": 15,
   "metadata": {},
   "outputs": [],
   "source": [
    "def buscafrequencia(palavras):\n",
    "    palavras = nltk.FreqDist(palavras)\n",
    "    return palavras"
   ]
  },
  {
   "cell_type": "code",
   "execution_count": 16,
   "metadata": {},
   "outputs": [
    {
     "name": "stdout",
     "output_type": "stream",
     "text": [
      "Mostrar a Frequência de Palavras no Texto\n",
      "[('am', 4), ('dia', 4), ('med', 3), ('nov', 2), ('result', 2), ('test', 2), ('deix', 2), ('apavor', 2), ('admir', 1), ('muit', 1), ('sint', 1), ('complet', 1), ('maravilh', 1), ('sent', 1), ('anim', 1), ('bem', 1), ('hoj', 1), ('bel', 1), ('dirig', 1), ('carr', 1), ('bonit', 1), ('cont', 1), ('fiz', 1), ('ont', 1), ('lind', 1), ('amizad', 1), ('vai', 1), ('dur', 1), ('sempr', 1), ('amedront', 1), ('ameac', 1), ('lug', 1), ('perd', 1), ('outr', 1), ('jog', 1), ('elimin', 1), ('pav', 1), ('tom', 1), ('cuid', 1), ('lobisom', 1), ('descobr', 1), ('encrenc', 1), ('trem', 1)]\n"
     ]
    }
   ],
   "source": [
    "# Exibição dos dados com a busca de palavras com distribuição de frequência.\n",
    "frequencia = buscafrequencia(palavras)\n",
    "print('Mostrar a Frequência de Palavras no Texto')\n",
    "print(frequencia.most_common(50))\n"
   ]
  },
  {
   "cell_type": "code",
   "execution_count": 17,
   "metadata": {},
   "outputs": [],
   "source": [
    "# Método para verificar as palavras únicas \n",
    "def buscapalavrasunicas(frequencia):\n",
    "    freq = frequencia.keys()\n",
    "    return freq"
   ]
  },
  {
   "cell_type": "code",
   "execution_count": 18,
   "metadata": {},
   "outputs": [
    {
     "name": "stdout",
     "output_type": "stream",
     "text": [
      "dict_keys(['admir', 'muit', 'sint', 'complet', 'am', 'maravilh', 'sent', 'anim', 'nov', 'bem', 'hoj', 'bel', 'dia', 'dirig', 'carr', 'bonit', 'cont', 'result', 'test', 'fiz', 'ont', 'lind', 'amizad', 'vai', 'dur', 'sempr', 'amedront', 'ameac', 'deix', 'apavor', 'lug', 'perd', 'outr', 'jog', 'elimin', 'pav', 'tom', 'cuid', 'lobisom', 'descobr', 'encrenc', 'trem', 'med'])\n"
     ]
    }
   ],
   "source": [
    "# Chamada do método buscapalavasunicas\n",
    "palavrasunicas = buscapalavrasunicas(frequencia)\n",
    "#palavrasunicasteste = buscapalavrasunicas(frequenciateste)\n",
    "#print(palavrasunicastreinamento)\n",
    "\n",
    "print(palavrasunicas)"
   ]
  },
  {
   "cell_type": "code",
   "execution_count": 19,
   "metadata": {},
   "outputs": [],
   "source": [
    "# Extrator de Palavras.\n",
    "def extratorpalavras(documento):\n",
    "    doc = set(documento)\n",
    "    caracteristicas = {}\n",
    "    for palavras in palavrasunicas:\n",
    "        caracteristicas['%s' % palavras] = (palavras in doc)\n",
    "    return caracteristicas"
   ]
  },
  {
   "cell_type": "code",
   "execution_count": 20,
   "metadata": {},
   "outputs": [],
   "source": [
    "# Chamar o ExtratorPalavras\n",
    "caracteristicasfrase = extratorpalavras(['am', 'nov', 'dia'])\n",
    "#print(caracteristicasfrase)"
   ]
  },
  {
   "cell_type": "code",
   "execution_count": 21,
   "metadata": {},
   "outputs": [
    {
     "name": "stdout",
     "output_type": "stream",
     "text": [
      "{'admir': False, 'muit': False, 'sint': False, 'complet': False, 'am': True, 'maravilh': False, 'sent': False, 'anim': False, 'nov': True, 'bem': False, 'hoj': False, 'bel': False, 'dia': True, 'dirig': False, 'carr': False, 'bonit': False, 'cont': False, 'result': False, 'test': False, 'fiz': False, 'ont': False, 'lind': False, 'amizad': False, 'vai': False, 'dur': False, 'sempr': False, 'amedront': False, 'ameac': False, 'deix': False, 'apavor': False, 'lug': False, 'perd': False, 'outr': False, 'jog': False, 'elimin': False, 'pav': False, 'tom': False, 'cuid': False, 'lobisom': False, 'descobr': False, 'encrenc': False, 'trem': False, 'med': False}\n"
     ]
    }
   ],
   "source": [
    "print(caracteristicasfrase)"
   ]
  },
  {
   "cell_type": "code",
   "execution_count": 22,
   "metadata": {},
   "outputs": [
    {
     "name": "stdout",
     "output_type": "stream",
     "text": [
      "\n",
      "[({'admir': False, 'muit': False, 'sint': False, 'complet': False, 'am': False, 'maravilh': False, 'sent': False, 'anim': False, 'nov': False, 'bem': False, 'hoj': False, 'bel': False, 'dia': False, 'dirig': False, 'carr': False, 'bonit': False, 'cont': False, 'result': False, 'test': False, 'fiz': False, 'ont': False, 'lind': False, 'amizad': False, 'vai': False, 'dur': False, 'sempr': False, 'amedront': False, 'ameac': False, 'deix': False, 'apavor': False, 'lug': False, 'perd': False, 'outr': False, 'jog': False, 'elimin': False, 'pav': False, 'tom': False, 'cuid': False, 'lobisom': False, 'descobr': False, 'encrenc': False, 'trem': False, 'med': False}, 'desgosto'), ({'admir': False, 'muit': False, 'sint': False, 'complet': False, 'am': False, 'maravilh': False, 'sent': False, 'anim': False, 'nov': False, 'bem': False, 'hoj': False, 'bel': False, 'dia': False, 'dirig': False, 'carr': False, 'bonit': False, 'cont': False, 'result': False, 'test': False, 'fiz': False, 'ont': False, 'lind': False, 'amizad': False, 'vai': False, 'dur': False, 'sempr': False, 'amedront': False, 'ameac': False, 'deix': False, 'apavor': False, 'lug': False, 'perd': False, 'outr': False, 'jog': False, 'elimin': False, 'pav': False, 'tom': False, 'cuid': False, 'lobisom': False, 'descobr': False, 'encrenc': False, 'trem': False, 'med': False}, 'desgosto'), ...]\n",
      "\n",
      "[({'admir': True, 'muit': True, 'sint': False, 'complet': False, 'am': False, 'maravilh': False, 'sent': False, 'anim': False, 'nov': False, 'bem': False, 'hoj': False, 'bel': False, 'dia': False, 'dirig': False, 'carr': False, 'bonit': False, 'cont': False, 'result': False, 'test': False, 'fiz': False, 'ont': False, 'lind': False, 'amizad': False, 'vai': False, 'dur': False, 'sempr': False, 'amedront': False, 'ameac': False, 'deix': False, 'apavor': False, 'lug': False, 'perd': False, 'outr': False, 'jog': False, 'elimin': False, 'pav': False, 'tom': False, 'cuid': False, 'lobisom': False, 'descobr': False, 'encrenc': False, 'trem': False, 'med': False}, 'alegria'), ({'admir': False, 'muit': False, 'sint': True, 'complet': True, 'am': True, 'maravilh': False, 'sent': False, 'anim': False, 'nov': False, 'bem': False, 'hoj': False, 'bel': False, 'dia': False, 'dirig': False, 'carr': False, 'bonit': False, 'cont': False, 'result': False, 'test': False, 'fiz': False, 'ont': False, 'lind': False, 'amizad': False, 'vai': False, 'dur': False, 'sempr': False, 'amedront': False, 'ameac': False, 'deix': False, 'apavor': False, 'lug': False, 'perd': False, 'outr': False, 'jog': False, 'elimin': False, 'pav': False, 'tom': False, 'cuid': False, 'lobisom': False, 'descobr': False, 'encrenc': False, 'trem': False, 'med': False}, 'alegria'), ...]\n"
     ]
    }
   ],
   "source": [
    "# Extração das particularidades com o nltk.classify.apply_features\n",
    "basecompletatreinamento = nltk.classify.apply_features(extratorpalavras, frasescomstemmingtreinamento)\n",
    "basecompletateste = nltk.classify.apply_features(extratorpalavras, frasescomstemmingteste)\n",
    "print()\n",
    "print(basecompletatreinamento)\n",
    "print()\n",
    "print(basecompletateste)\n",
    "#print(basecompleta[15])"
   ]
  },
  {
   "cell_type": "code",
   "execution_count": 25,
   "metadata": {},
   "outputs": [
    {
     "name": "stdout",
     "output_type": "stream",
     "text": [
      "['desgosto', 'tristeza', 'medo']\n",
      "Most Informative Features\n",
      "                    sint = True           triste : medo   =      3.0 : 1.0\n",
      "                    cuid = True             medo : triste =      2.3 : 1.0\n",
      "                     vai = True             medo : triste =      2.3 : 1.0\n",
      "                    deix = True           triste : medo   =      1.7 : 1.0\n",
      "                     tom = True             medo : triste =      1.7 : 1.0\n",
      "                     dia = False          desgos : triste =      1.1 : 1.0\n",
      "                    sint = False            medo : triste =      1.0 : 1.0\n",
      "                amedront = False          desgos : medo   =      1.0 : 1.0\n",
      "                    cuid = False          desgos : medo   =      1.0 : 1.0\n",
      "                     lug = False          desgos : medo   =      1.0 : 1.0\n",
      "                     vai = False          desgos : medo   =      1.0 : 1.0\n",
      "                      am = False          desgos : triste =      1.0 : 1.0\n",
      "                    cont = False          desgos : triste =      1.0 : 1.0\n",
      "                    deix = False          desgos : triste =      1.0 : 1.0\n",
      "                 descobr = False          desgos : medo   =      1.0 : 1.0\n",
      "                    muit = False          desgos : triste =      1.0 : 1.0\n",
      "                    perd = False          desgos : triste =      1.0 : 1.0\n",
      "                     tom = False          desgos : medo   =      1.0 : 1.0\n",
      "                 lobisom = False          desgos : medo   =      1.0 : 1.0\n",
      "                     med = False          desgos : medo   =      1.0 : 1.0\n",
      "                    outr = False          desgos : triste =      1.0 : 1.0\n",
      "                    trem = False          desgos : medo   =      1.0 : 1.0\n",
      "                 complet = False            medo : desgos =      1.0 : 1.0\n",
      "                     hoj = False            medo : desgos =      1.0 : 1.0\n",
      "                   admir = False          desgos : triste =      1.0 : 1.0\n",
      "                   ameac = False          desgos : triste =      1.0 : 1.0\n",
      "                  amizad = False          desgos : triste =      1.0 : 1.0\n",
      "                    anim = False          desgos : triste =      1.0 : 1.0\n",
      "                  apavor = False          desgos : triste =      1.0 : 1.0\n",
      "                     bel = False          desgos : triste =      1.0 : 1.0\n",
      "                     bem = False          desgos : triste =      1.0 : 1.0\n",
      "                   bonit = False          desgos : triste =      1.0 : 1.0\n",
      "                    carr = False          desgos : triste =      1.0 : 1.0\n",
      "                   dirig = False          desgos : triste =      1.0 : 1.0\n",
      "                     dur = False          desgos : triste =      1.0 : 1.0\n",
      "                  elimin = False          desgos : triste =      1.0 : 1.0\n",
      "                 encrenc = False          desgos : triste =      1.0 : 1.0\n",
      "                     fiz = False          desgos : triste =      1.0 : 1.0\n",
      "                     jog = False          desgos : triste =      1.0 : 1.0\n",
      "                    lind = False          desgos : triste =      1.0 : 1.0\n",
      "                maravilh = False          desgos : triste =      1.0 : 1.0\n",
      "                    muit = True             medo : triste =      1.0 : 1.0\n",
      "                     nov = False          desgos : triste =      1.0 : 1.0\n",
      "                     ont = False          desgos : triste =      1.0 : 1.0\n",
      "                    outr = True             medo : triste =      1.0 : 1.0\n",
      "                     pav = False          desgos : triste =      1.0 : 1.0\n",
      "                  result = False          desgos : triste =      1.0 : 1.0\n",
      "                   sempr = False          desgos : triste =      1.0 : 1.0\n",
      "                    sent = False          desgos : triste =      1.0 : 1.0\n",
      "                    test = False          desgos : triste =      1.0 : 1.0\n",
      "None\n"
     ]
    }
   ],
   "source": [
    "# constroi a tabela de probabilidade - Modelo de Machine Learning para o Algortimo Naive Bayes\n",
    "classificador = nltk.NaiveBayesClassifier.train(basecompletatreinamento)\n",
    "print(classificador.labels())\n",
    "print(classificador.show_most_informative_features(550))\n"
   ]
  },
  {
   "cell_type": "code",
   "execution_count": 26,
   "metadata": {},
   "outputs": [
    {
     "name": "stdout",
     "output_type": "stream",
     "text": [
      "0.35\n"
     ]
    }
   ],
   "source": [
    "# Exibe a Accuracy do Modelo de Machine learning.\n",
    "print(nltk.classify.accuracy(classificador, basecompletateste))"
   ]
  },
  {
   "cell_type": "code",
   "execution_count": 27,
   "metadata": {},
   "outputs": [
    {
     "name": "stdout",
     "output_type": "stream",
     "text": [
      "0.46511627906976744\n"
     ]
    }
   ],
   "source": [
    "print(nltk.classify.accuracy(classificador, basecompletatreinamento))"
   ]
  },
  {
   "cell_type": "code",
   "execution_count": 28,
   "metadata": {},
   "outputs": [
    {
     "name": "stdout",
     "output_type": "stream",
     "text": [
      "{'admir': True, 'muit': True, 'sint': False, 'complet': False, 'am': False, 'maravilh': False, 'sent': False, 'anim': False, 'nov': False, 'bem': False, 'hoj': False, 'bel': False, 'dia': False, 'dirig': False, 'carr': False, 'bonit': False, 'cont': False, 'result': False, 'test': False, 'fiz': False, 'ont': False, 'lind': False, 'amizad': False, 'vai': False, 'dur': False, 'sempr': False, 'amedront': False, 'ameac': False, 'deix': False, 'apavor': False, 'lug': False, 'perd': False, 'outr': False, 'jog': False, 'elimin': False, 'pav': False, 'tom': False, 'cuid': False, 'lobisom': False, 'descobr': False, 'encrenc': False, 'trem': False, 'med': False}\n",
      "alegria\n",
      "{'admir': False, 'muit': False, 'sint': True, 'complet': True, 'am': True, 'maravilh': False, 'sent': False, 'anim': False, 'nov': False, 'bem': False, 'hoj': False, 'bel': False, 'dia': False, 'dirig': False, 'carr': False, 'bonit': False, 'cont': False, 'result': False, 'test': False, 'fiz': False, 'ont': False, 'lind': False, 'amizad': False, 'vai': False, 'dur': False, 'sempr': False, 'amedront': False, 'ameac': False, 'deix': False, 'apavor': False, 'lug': False, 'perd': False, 'outr': False, 'jog': False, 'elimin': False, 'pav': False, 'tom': False, 'cuid': False, 'lobisom': False, 'descobr': False, 'encrenc': False, 'trem': False, 'med': False}\n",
      "alegria\n",
      "{'admir': False, 'muit': False, 'sint': False, 'complet': False, 'am': True, 'maravilh': True, 'sent': False, 'anim': False, 'nov': False, 'bem': False, 'hoj': False, 'bel': False, 'dia': False, 'dirig': False, 'carr': False, 'bonit': False, 'cont': False, 'result': False, 'test': False, 'fiz': False, 'ont': False, 'lind': False, 'amizad': False, 'vai': False, 'dur': False, 'sempr': False, 'amedront': False, 'ameac': False, 'deix': False, 'apavor': False, 'lug': False, 'perd': False, 'outr': False, 'jog': False, 'elimin': False, 'pav': False, 'tom': False, 'cuid': False, 'lobisom': False, 'descobr': False, 'encrenc': False, 'trem': False, 'med': False}\n",
      "alegria\n",
      "{'admir': False, 'muit': False, 'sint': False, 'complet': False, 'am': False, 'maravilh': False, 'sent': True, 'anim': True, 'nov': True, 'bem': False, 'hoj': False, 'bel': False, 'dia': False, 'dirig': False, 'carr': False, 'bonit': False, 'cont': False, 'result': False, 'test': False, 'fiz': False, 'ont': False, 'lind': False, 'amizad': False, 'vai': False, 'dur': False, 'sempr': False, 'amedront': False, 'ameac': False, 'deix': False, 'apavor': False, 'lug': False, 'perd': False, 'outr': False, 'jog': False, 'elimin': False, 'pav': False, 'tom': False, 'cuid': False, 'lobisom': False, 'descobr': False, 'encrenc': False, 'trem': False, 'med': False}\n",
      "alegria\n",
      "{'admir': False, 'muit': False, 'sint': False, 'complet': False, 'am': False, 'maravilh': False, 'sent': False, 'anim': False, 'nov': False, 'bem': True, 'hoj': True, 'bel': False, 'dia': False, 'dirig': False, 'carr': False, 'bonit': False, 'cont': False, 'result': False, 'test': False, 'fiz': False, 'ont': False, 'lind': False, 'amizad': False, 'vai': False, 'dur': False, 'sempr': False, 'amedront': False, 'ameac': False, 'deix': False, 'apavor': False, 'lug': False, 'perd': False, 'outr': False, 'jog': False, 'elimin': False, 'pav': False, 'tom': False, 'cuid': False, 'lobisom': False, 'descobr': False, 'encrenc': False, 'trem': False, 'med': False}\n",
      "alegria\n",
      "{'admir': False, 'muit': False, 'sint': False, 'complet': False, 'am': False, 'maravilh': False, 'sent': False, 'anim': False, 'nov': True, 'bem': False, 'hoj': False, 'bel': True, 'dia': True, 'dirig': True, 'carr': True, 'bonit': False, 'cont': False, 'result': False, 'test': False, 'fiz': False, 'ont': False, 'lind': False, 'amizad': False, 'vai': False, 'dur': False, 'sempr': False, 'amedront': False, 'ameac': False, 'deix': False, 'apavor': False, 'lug': False, 'perd': False, 'outr': False, 'jog': False, 'elimin': False, 'pav': False, 'tom': False, 'cuid': False, 'lobisom': False, 'descobr': False, 'encrenc': False, 'trem': False, 'med': False}\n",
      "alegria\n",
      "{'admir': False, 'muit': False, 'sint': False, 'complet': False, 'am': False, 'maravilh': False, 'sent': False, 'anim': False, 'nov': False, 'bem': False, 'hoj': False, 'bel': False, 'dia': True, 'dirig': False, 'carr': False, 'bonit': True, 'cont': False, 'result': False, 'test': False, 'fiz': False, 'ont': False, 'lind': False, 'amizad': False, 'vai': False, 'dur': False, 'sempr': False, 'amedront': False, 'ameac': False, 'deix': False, 'apavor': False, 'lug': False, 'perd': False, 'outr': False, 'jog': False, 'elimin': False, 'pav': False, 'tom': False, 'cuid': False, 'lobisom': False, 'descobr': False, 'encrenc': False, 'trem': False, 'med': False}\n",
      "alegria\n",
      "{'admir': False, 'muit': False, 'sint': False, 'complet': False, 'am': False, 'maravilh': False, 'sent': False, 'anim': False, 'nov': False, 'bem': False, 'hoj': False, 'bel': False, 'dia': True, 'dirig': False, 'carr': False, 'bonit': False, 'cont': True, 'result': True, 'test': True, 'fiz': True, 'ont': True, 'lind': False, 'amizad': False, 'vai': False, 'dur': False, 'sempr': False, 'amedront': False, 'ameac': False, 'deix': False, 'apavor': False, 'lug': False, 'perd': False, 'outr': False, 'jog': False, 'elimin': False, 'pav': False, 'tom': False, 'cuid': False, 'lobisom': False, 'descobr': False, 'encrenc': False, 'trem': False, 'med': False}\n",
      "alegria\n",
      "{'admir': False, 'muit': False, 'sint': False, 'complet': False, 'am': True, 'maravilh': False, 'sent': False, 'anim': False, 'nov': False, 'bem': False, 'hoj': False, 'bel': False, 'dia': False, 'dirig': False, 'carr': False, 'bonit': False, 'cont': False, 'result': False, 'test': False, 'fiz': False, 'ont': False, 'lind': True, 'amizad': False, 'vai': False, 'dur': False, 'sempr': False, 'amedront': False, 'ameac': False, 'deix': False, 'apavor': False, 'lug': False, 'perd': False, 'outr': False, 'jog': False, 'elimin': False, 'pav': False, 'tom': False, 'cuid': False, 'lobisom': False, 'descobr': False, 'encrenc': False, 'trem': False, 'med': False}\n",
      "alegria\n",
      "{'admir': False, 'muit': False, 'sint': False, 'complet': False, 'am': True, 'maravilh': False, 'sent': False, 'anim': False, 'nov': False, 'bem': False, 'hoj': False, 'bel': False, 'dia': False, 'dirig': False, 'carr': False, 'bonit': False, 'cont': False, 'result': False, 'test': False, 'fiz': False, 'ont': False, 'lind': False, 'amizad': True, 'vai': True, 'dur': True, 'sempr': True, 'amedront': False, 'ameac': False, 'deix': False, 'apavor': False, 'lug': False, 'perd': False, 'outr': False, 'jog': False, 'elimin': False, 'pav': False, 'tom': False, 'cuid': False, 'lobisom': False, 'descobr': False, 'encrenc': False, 'trem': False, 'med': False}\n",
      "alegria\n",
      "{'admir': False, 'muit': False, 'sint': False, 'complet': False, 'am': False, 'maravilh': False, 'sent': False, 'anim': False, 'nov': False, 'bem': False, 'hoj': False, 'bel': False, 'dia': False, 'dirig': False, 'carr': False, 'bonit': False, 'cont': False, 'result': False, 'test': False, 'fiz': False, 'ont': False, 'lind': False, 'amizad': False, 'vai': False, 'dur': False, 'sempr': False, 'amedront': True, 'ameac': False, 'deix': False, 'apavor': False, 'lug': False, 'perd': False, 'outr': False, 'jog': False, 'elimin': False, 'pav': False, 'tom': False, 'cuid': False, 'lobisom': False, 'descobr': False, 'encrenc': False, 'trem': False, 'med': False}\n",
      "medo\n",
      "{'admir': False, 'muit': False, 'sint': False, 'complet': False, 'am': False, 'maravilh': False, 'sent': False, 'anim': False, 'nov': False, 'bem': False, 'hoj': False, 'bel': False, 'dia': True, 'dirig': False, 'carr': False, 'bonit': False, 'cont': False, 'result': False, 'test': False, 'fiz': False, 'ont': False, 'lind': False, 'amizad': False, 'vai': False, 'dur': False, 'sempr': False, 'amedront': False, 'ameac': True, 'deix': False, 'apavor': False, 'lug': False, 'perd': False, 'outr': False, 'jog': False, 'elimin': False, 'pav': False, 'tom': False, 'cuid': False, 'lobisom': False, 'descobr': False, 'encrenc': False, 'trem': False, 'med': False}\n",
      "medo\n",
      "{'admir': False, 'muit': False, 'sint': False, 'complet': False, 'am': False, 'maravilh': False, 'sent': False, 'anim': False, 'nov': False, 'bem': False, 'hoj': False, 'bel': False, 'dia': False, 'dirig': False, 'carr': False, 'bonit': False, 'cont': False, 'result': False, 'test': False, 'fiz': False, 'ont': False, 'lind': False, 'amizad': False, 'vai': False, 'dur': False, 'sempr': False, 'amedront': False, 'ameac': False, 'deix': True, 'apavor': True, 'lug': False, 'perd': False, 'outr': False, 'jog': False, 'elimin': False, 'pav': False, 'tom': False, 'cuid': False, 'lobisom': False, 'descobr': False, 'encrenc': False, 'trem': False, 'med': False}\n",
      "medo\n",
      "{'admir': False, 'muit': False, 'sint': False, 'complet': False, 'am': False, 'maravilh': False, 'sent': False, 'anim': False, 'nov': False, 'bem': False, 'hoj': False, 'bel': False, 'dia': False, 'dirig': False, 'carr': False, 'bonit': False, 'cont': False, 'result': False, 'test': False, 'fiz': False, 'ont': False, 'lind': False, 'amizad': False, 'vai': False, 'dur': False, 'sempr': False, 'amedront': False, 'ameac': False, 'deix': False, 'apavor': True, 'lug': True, 'perd': False, 'outr': False, 'jog': False, 'elimin': False, 'pav': False, 'tom': False, 'cuid': False, 'lobisom': False, 'descobr': False, 'encrenc': False, 'trem': False, 'med': False}\n",
      "medo\n",
      "{'admir': False, 'muit': False, 'sint': False, 'complet': False, 'am': False, 'maravilh': False, 'sent': False, 'anim': False, 'nov': False, 'bem': False, 'hoj': False, 'bel': False, 'dia': False, 'dirig': False, 'carr': False, 'bonit': False, 'cont': False, 'result': False, 'test': False, 'fiz': False, 'ont': False, 'lind': False, 'amizad': False, 'vai': False, 'dur': False, 'sempr': False, 'amedront': False, 'ameac': False, 'deix': True, 'apavor': False, 'lug': False, 'perd': True, 'outr': True, 'jog': True, 'elimin': True, 'pav': True, 'tom': False, 'cuid': False, 'lobisom': False, 'descobr': False, 'encrenc': False, 'trem': False, 'med': False}\n",
      "medo\n",
      "{'admir': False, 'muit': False, 'sint': False, 'complet': False, 'am': False, 'maravilh': False, 'sent': False, 'anim': False, 'nov': False, 'bem': False, 'hoj': False, 'bel': False, 'dia': False, 'dirig': False, 'carr': False, 'bonit': False, 'cont': False, 'result': False, 'test': False, 'fiz': False, 'ont': False, 'lind': False, 'amizad': False, 'vai': False, 'dur': False, 'sempr': False, 'amedront': False, 'ameac': False, 'deix': False, 'apavor': False, 'lug': False, 'perd': False, 'outr': False, 'jog': False, 'elimin': False, 'pav': False, 'tom': True, 'cuid': True, 'lobisom': True, 'descobr': False, 'encrenc': False, 'trem': False, 'med': False}\n",
      "medo\n",
      "{'admir': False, 'muit': False, 'sint': False, 'complet': False, 'am': False, 'maravilh': False, 'sent': False, 'anim': False, 'nov': False, 'bem': False, 'hoj': False, 'bel': False, 'dia': False, 'dirig': False, 'carr': False, 'bonit': False, 'cont': False, 'result': False, 'test': False, 'fiz': False, 'ont': False, 'lind': False, 'amizad': False, 'vai': False, 'dur': False, 'sempr': False, 'amedront': False, 'ameac': False, 'deix': False, 'apavor': False, 'lug': False, 'perd': False, 'outr': False, 'jog': False, 'elimin': False, 'pav': False, 'tom': False, 'cuid': False, 'lobisom': False, 'descobr': True, 'encrenc': True, 'trem': False, 'med': False}\n",
      "medo\n",
      "{'admir': False, 'muit': False, 'sint': False, 'complet': False, 'am': False, 'maravilh': False, 'sent': False, 'anim': False, 'nov': False, 'bem': False, 'hoj': False, 'bel': False, 'dia': False, 'dirig': False, 'carr': False, 'bonit': False, 'cont': False, 'result': False, 'test': False, 'fiz': False, 'ont': False, 'lind': False, 'amizad': False, 'vai': False, 'dur': False, 'sempr': False, 'amedront': False, 'ameac': False, 'deix': False, 'apavor': False, 'lug': False, 'perd': False, 'outr': False, 'jog': False, 'elimin': False, 'pav': False, 'tom': False, 'cuid': False, 'lobisom': False, 'descobr': False, 'encrenc': False, 'trem': True, 'med': True}\n",
      "medo\n",
      "{'admir': False, 'muit': False, 'sint': False, 'complet': False, 'am': False, 'maravilh': False, 'sent': False, 'anim': False, 'nov': False, 'bem': False, 'hoj': False, 'bel': False, 'dia': False, 'dirig': False, 'carr': False, 'bonit': False, 'cont': False, 'result': False, 'test': False, 'fiz': False, 'ont': False, 'lind': False, 'amizad': False, 'vai': False, 'dur': False, 'sempr': False, 'amedront': False, 'ameac': False, 'deix': False, 'apavor': False, 'lug': False, 'perd': False, 'outr': False, 'jog': False, 'elimin': False, 'pav': False, 'tom': False, 'cuid': False, 'lobisom': False, 'descobr': False, 'encrenc': False, 'trem': False, 'med': True}\n",
      "medo\n",
      "{'admir': False, 'muit': False, 'sint': False, 'complet': False, 'am': False, 'maravilh': False, 'sent': False, 'anim': False, 'nov': False, 'bem': False, 'hoj': False, 'bel': False, 'dia': False, 'dirig': False, 'carr': False, 'bonit': False, 'cont': False, 'result': True, 'test': True, 'fiz': False, 'ont': False, 'lind': False, 'amizad': False, 'vai': False, 'dur': False, 'sempr': False, 'amedront': False, 'ameac': False, 'deix': False, 'apavor': False, 'lug': False, 'perd': False, 'outr': False, 'jog': False, 'elimin': False, 'pav': False, 'tom': False, 'cuid': False, 'lobisom': False, 'descobr': False, 'encrenc': False, 'trem': False, 'med': True}\n",
      "medo\n",
      "alegria tristeza {'admir': True, 'muit': True, 'sint': False, 'complet': False, 'am': False, 'maravilh': False, 'sent': False, 'anim': False, 'nov': False, 'bem': False, 'hoj': False, 'bel': False, 'dia': False, 'dirig': False, 'carr': False, 'bonit': False, 'cont': False, 'result': False, 'test': False, 'fiz': False, 'ont': False, 'lind': False, 'amizad': False, 'vai': False, 'dur': False, 'sempr': False, 'amedront': False, 'ameac': False, 'deix': False, 'apavor': False, 'lug': False, 'perd': False, 'outr': False, 'jog': False, 'elimin': False, 'pav': False, 'tom': False, 'cuid': False, 'lobisom': False, 'descobr': False, 'encrenc': False, 'trem': False, 'med': False}\n",
      "alegria tristeza {'admir': False, 'muit': False, 'sint': True, 'complet': True, 'am': True, 'maravilh': False, 'sent': False, 'anim': False, 'nov': False, 'bem': False, 'hoj': False, 'bel': False, 'dia': False, 'dirig': False, 'carr': False, 'bonit': False, 'cont': False, 'result': False, 'test': False, 'fiz': False, 'ont': False, 'lind': False, 'amizad': False, 'vai': False, 'dur': False, 'sempr': False, 'amedront': False, 'ameac': False, 'deix': False, 'apavor': False, 'lug': False, 'perd': False, 'outr': False, 'jog': False, 'elimin': False, 'pav': False, 'tom': False, 'cuid': False, 'lobisom': False, 'descobr': False, 'encrenc': False, 'trem': False, 'med': False}\n",
      "alegria tristeza {'admir': False, 'muit': False, 'sint': False, 'complet': False, 'am': True, 'maravilh': True, 'sent': False, 'anim': False, 'nov': False, 'bem': False, 'hoj': False, 'bel': False, 'dia': False, 'dirig': False, 'carr': False, 'bonit': False, 'cont': False, 'result': False, 'test': False, 'fiz': False, 'ont': False, 'lind': False, 'amizad': False, 'vai': False, 'dur': False, 'sempr': False, 'amedront': False, 'ameac': False, 'deix': False, 'apavor': False, 'lug': False, 'perd': False, 'outr': False, 'jog': False, 'elimin': False, 'pav': False, 'tom': False, 'cuid': False, 'lobisom': False, 'descobr': False, 'encrenc': False, 'trem': False, 'med': False}\n",
      "alegria desgosto {'admir': False, 'muit': False, 'sint': False, 'complet': False, 'am': False, 'maravilh': False, 'sent': True, 'anim': True, 'nov': True, 'bem': False, 'hoj': False, 'bel': False, 'dia': False, 'dirig': False, 'carr': False, 'bonit': False, 'cont': False, 'result': False, 'test': False, 'fiz': False, 'ont': False, 'lind': False, 'amizad': False, 'vai': False, 'dur': False, 'sempr': False, 'amedront': False, 'ameac': False, 'deix': False, 'apavor': False, 'lug': False, 'perd': False, 'outr': False, 'jog': False, 'elimin': False, 'pav': False, 'tom': False, 'cuid': False, 'lobisom': False, 'descobr': False, 'encrenc': False, 'trem': False, 'med': False}\n",
      "alegria desgosto {'admir': False, 'muit': False, 'sint': False, 'complet': False, 'am': False, 'maravilh': False, 'sent': False, 'anim': False, 'nov': False, 'bem': True, 'hoj': True, 'bel': False, 'dia': False, 'dirig': False, 'carr': False, 'bonit': False, 'cont': False, 'result': False, 'test': False, 'fiz': False, 'ont': False, 'lind': False, 'amizad': False, 'vai': False, 'dur': False, 'sempr': False, 'amedront': False, 'ameac': False, 'deix': False, 'apavor': False, 'lug': False, 'perd': False, 'outr': False, 'jog': False, 'elimin': False, 'pav': False, 'tom': False, 'cuid': False, 'lobisom': False, 'descobr': False, 'encrenc': False, 'trem': False, 'med': False}\n",
      "alegria tristeza {'admir': False, 'muit': False, 'sint': False, 'complet': False, 'am': False, 'maravilh': False, 'sent': False, 'anim': False, 'nov': True, 'bem': False, 'hoj': False, 'bel': True, 'dia': True, 'dirig': True, 'carr': True, 'bonit': False, 'cont': False, 'result': False, 'test': False, 'fiz': False, 'ont': False, 'lind': False, 'amizad': False, 'vai': False, 'dur': False, 'sempr': False, 'amedront': False, 'ameac': False, 'deix': False, 'apavor': False, 'lug': False, 'perd': False, 'outr': False, 'jog': False, 'elimin': False, 'pav': False, 'tom': False, 'cuid': False, 'lobisom': False, 'descobr': False, 'encrenc': False, 'trem': False, 'med': False}\n",
      "alegria tristeza {'admir': False, 'muit': False, 'sint': False, 'complet': False, 'am': False, 'maravilh': False, 'sent': False, 'anim': False, 'nov': False, 'bem': False, 'hoj': False, 'bel': False, 'dia': True, 'dirig': False, 'carr': False, 'bonit': True, 'cont': False, 'result': False, 'test': False, 'fiz': False, 'ont': False, 'lind': False, 'amizad': False, 'vai': False, 'dur': False, 'sempr': False, 'amedront': False, 'ameac': False, 'deix': False, 'apavor': False, 'lug': False, 'perd': False, 'outr': False, 'jog': False, 'elimin': False, 'pav': False, 'tom': False, 'cuid': False, 'lobisom': False, 'descobr': False, 'encrenc': False, 'trem': False, 'med': False}\n",
      "alegria tristeza {'admir': False, 'muit': False, 'sint': False, 'complet': False, 'am': False, 'maravilh': False, 'sent': False, 'anim': False, 'nov': False, 'bem': False, 'hoj': False, 'bel': False, 'dia': True, 'dirig': False, 'carr': False, 'bonit': False, 'cont': True, 'result': True, 'test': True, 'fiz': True, 'ont': True, 'lind': False, 'amizad': False, 'vai': False, 'dur': False, 'sempr': False, 'amedront': False, 'ameac': False, 'deix': False, 'apavor': False, 'lug': False, 'perd': False, 'outr': False, 'jog': False, 'elimin': False, 'pav': False, 'tom': False, 'cuid': False, 'lobisom': False, 'descobr': False, 'encrenc': False, 'trem': False, 'med': False}\n",
      "alegria tristeza {'admir': False, 'muit': False, 'sint': False, 'complet': False, 'am': True, 'maravilh': False, 'sent': False, 'anim': False, 'nov': False, 'bem': False, 'hoj': False, 'bel': False, 'dia': False, 'dirig': False, 'carr': False, 'bonit': False, 'cont': False, 'result': False, 'test': False, 'fiz': False, 'ont': False, 'lind': True, 'amizad': False, 'vai': False, 'dur': False, 'sempr': False, 'amedront': False, 'ameac': False, 'deix': False, 'apavor': False, 'lug': False, 'perd': False, 'outr': False, 'jog': False, 'elimin': False, 'pav': False, 'tom': False, 'cuid': False, 'lobisom': False, 'descobr': False, 'encrenc': False, 'trem': False, 'med': False}\n",
      "alegria tristeza {'admir': False, 'muit': False, 'sint': False, 'complet': False, 'am': True, 'maravilh': False, 'sent': False, 'anim': False, 'nov': False, 'bem': False, 'hoj': False, 'bel': False, 'dia': False, 'dirig': False, 'carr': False, 'bonit': False, 'cont': False, 'result': False, 'test': False, 'fiz': False, 'ont': False, 'lind': False, 'amizad': True, 'vai': True, 'dur': True, 'sempr': True, 'amedront': False, 'ameac': False, 'deix': False, 'apavor': False, 'lug': False, 'perd': False, 'outr': False, 'jog': False, 'elimin': False, 'pav': False, 'tom': False, 'cuid': False, 'lobisom': False, 'descobr': False, 'encrenc': False, 'trem': False, 'med': False}\n",
      "medo tristeza {'admir': False, 'muit': False, 'sint': False, 'complet': False, 'am': False, 'maravilh': False, 'sent': False, 'anim': False, 'nov': False, 'bem': False, 'hoj': False, 'bel': False, 'dia': True, 'dirig': False, 'carr': False, 'bonit': False, 'cont': False, 'result': False, 'test': False, 'fiz': False, 'ont': False, 'lind': False, 'amizad': False, 'vai': False, 'dur': False, 'sempr': False, 'amedront': False, 'ameac': True, 'deix': False, 'apavor': False, 'lug': False, 'perd': False, 'outr': False, 'jog': False, 'elimin': False, 'pav': False, 'tom': False, 'cuid': False, 'lobisom': False, 'descobr': False, 'encrenc': False, 'trem': False, 'med': False}\n",
      "medo tristeza {'admir': False, 'muit': False, 'sint': False, 'complet': False, 'am': False, 'maravilh': False, 'sent': False, 'anim': False, 'nov': False, 'bem': False, 'hoj': False, 'bel': False, 'dia': False, 'dirig': False, 'carr': False, 'bonit': False, 'cont': False, 'result': False, 'test': False, 'fiz': False, 'ont': False, 'lind': False, 'amizad': False, 'vai': False, 'dur': False, 'sempr': False, 'amedront': False, 'ameac': False, 'deix': True, 'apavor': True, 'lug': False, 'perd': False, 'outr': False, 'jog': False, 'elimin': False, 'pav': False, 'tom': False, 'cuid': False, 'lobisom': False, 'descobr': False, 'encrenc': False, 'trem': False, 'med': False}\n",
      "medo tristeza {'admir': False, 'muit': False, 'sint': False, 'complet': False, 'am': False, 'maravilh': False, 'sent': False, 'anim': False, 'nov': False, 'bem': False, 'hoj': False, 'bel': False, 'dia': False, 'dirig': False, 'carr': False, 'bonit': False, 'cont': False, 'result': False, 'test': False, 'fiz': False, 'ont': False, 'lind': False, 'amizad': False, 'vai': False, 'dur': False, 'sempr': False, 'amedront': False, 'ameac': False, 'deix': True, 'apavor': False, 'lug': False, 'perd': True, 'outr': True, 'jog': True, 'elimin': True, 'pav': True, 'tom': False, 'cuid': False, 'lobisom': False, 'descobr': False, 'encrenc': False, 'trem': False, 'med': False}\n"
     ]
    }
   ],
   "source": [
    "erros = []\n",
    "for (frase, classe) in basecompletateste:\n",
    "    print(frase)\n",
    "    print(classe)\n",
    "    resultado = classificador.classify(frase)\n",
    "    if resultado != classe:\n",
    "        erros.append((classe, resultado, frase))\n",
    "for (classe, resultado, frase) in erros:\n",
    "    print(classe, resultado, frase)\n",
    "\n",
    "from nltk.metrics import ConfusionMatrix\n",
    "esperado = []\n",
    "previsto = []\n",
    "for (frase, classe) in basecompletateste:\n",
    "    resultado = classificador.classify(frase)\n",
    "    previsto.append(resultado)\n",
    "    esperado.append(classe)"
   ]
  },
  {
   "cell_type": "code",
   "execution_count": 28,
   "metadata": {},
   "outputs": [
    {
     "name": "stdout",
     "output_type": "stream",
     "text": [
      "         |   d   t |\n",
      "         | a e   r |\n",
      "         | l s   i |\n",
      "         | e g   s |\n",
      "         | g o m t |\n",
      "         | r s e e |\n",
      "         | i t d z |\n",
      "         | a o o a |\n",
      "---------+---------+\n",
      " alegria |<.>2 . 8 |\n",
      "desgosto | .<.>. . |\n",
      "    medo | . .<7>3 |\n",
      "tristeza | . . .<.>|\n",
      "---------+---------+\n",
      "(row = reference; col = test)\n",
      "\n"
     ]
    }
   ],
   "source": [
    "#esperado = 'alegria alegria alegria alegria medo medo surpresa surpresa'.split()\n",
    "#previsto = 'alegria alegria medo surpresa medo medo medo surpresa'.split()\n",
    "matriz = ConfusionMatrix(esperado, previsto)\n",
    "print(matriz)\n",
    "\n",
    "# 1. Cenário\n",
    "# 2. Número de classes - 16%\n",
    "# 3. ZeroRules - 21,05%"
   ]
  },
  {
   "cell_type": "code",
   "execution_count": 29,
   "metadata": {},
   "outputs": [
    {
     "name": "stdout",
     "output_type": "stream",
     "text": [
      "['voc', 'é', 'muit', 'fei', 'e', 'pavorosa,', 'não', 'gost', 'de', 'voc', 'e', 'sua', 'família,', 'tenh', 'noj']\n"
     ]
    }
   ],
   "source": [
    "teste = 'Você é muito feia e pavorosa, não gosto de você e sua família, tenho nojo'\n",
    "testestemming = []\n",
    "stemmer = nltk.stem.RSLPStemmer()\n",
    "for (palavrastreinamento) in teste.split():\n",
    "    comstem = [p for p in palavrastreinamento.split()]\n",
    "    testestemming.append(str(stemmer.stem(comstem[0])))\n",
    "print(testestemming)"
   ]
  },
  {
   "cell_type": "code",
   "execution_count": 30,
   "metadata": {},
   "outputs": [
    {
     "name": "stdout",
     "output_type": "stream",
     "text": [
      "{'admir': False, 'muit': True, 'sint': False, 'complet': False, 'am': False, 'maravilh': False, 'sent': False, 'anim': False, 'nov': False, 'bem': False, 'hoj': False, 'bel': False, 'dia': False, 'dirig': False, 'carr': False, 'bonit': False, 'cont': False, 'result': False, 'test': False, 'fiz': False, 'ont': False, 'lind': False, 'amizad': False, 'vai': False, 'dur': False, 'sempr': False, 'amedront': False, 'ameac': False, 'deix': False, 'apavor': False, 'lug': False, 'perd': False, 'outr': False, 'jog': False, 'elimin': False, 'pav': False, 'tom': False, 'cuid': False, 'lobisom': False, 'descobr': False, 'encrenc': False, 'trem': False, 'med': False}\n"
     ]
    }
   ],
   "source": [
    "novo = extratorpalavras(testestemming)\n",
    "print(novo)"
   ]
  },
  {
   "cell_type": "code",
   "execution_count": 31,
   "metadata": {},
   "outputs": [
    {
     "name": "stdout",
     "output_type": "stream",
     "text": [
      "tristeza\n",
      "desgosto: 0.109194\n",
      "tristeza: 0.450638\n",
      "medo: 0.440168\n"
     ]
    }
   ],
   "source": [
    "print(classificador.classify(novo))\n",
    "distribuicao = classificador.prob_classify(novo)\n",
    "for classe in distribuicao.samples():\n",
    "    print(\"%s: %f\" % (classe, distribuicao.prob(classe)))\n"
   ]
  },
  {
   "cell_type": "code",
   "execution_count": null,
   "metadata": {
    "collapsed": true
   },
   "outputs": [],
   "source": []
  },
  {
   "cell_type": "code",
   "execution_count": null,
   "metadata": {
    "collapsed": true
   },
   "outputs": [],
   "source": []
  }
 ],
 "metadata": {
  "kernelspec": {
   "display_name": "Python 3 (ipykernel)",
   "language": "python",
   "name": "python3"
  },
  "language_info": {
   "codemirror_mode": {
    "name": "ipython",
    "version": 3
   },
   "file_extension": ".py",
   "mimetype": "text/x-python",
   "name": "python",
   "nbconvert_exporter": "python",
   "pygments_lexer": "ipython3",
   "version": "3.9.13"
  }
 },
 "nbformat": 4,
 "nbformat_minor": 2
}
